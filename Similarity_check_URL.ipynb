{
  "cells": [
    {
      "cell_type": "markdown",
      "metadata": {
        "id": "view-in-github",
        "colab_type": "text"
      },
      "source": [
        "<a href=\"https://colab.research.google.com/github/Shabbarsyed/Cash-Ratio-Analysis/blob/main/Similarity_check_URL.ipynb\" target=\"_parent\"><img src=\"https://colab.research.google.com/assets/colab-badge.svg\" alt=\"Open In Colab\"/></a>"
      ]
    },
    {
      "cell_type": "code",
      "source": [
        "from google.colab import auth\n",
        "auth.authenticate_user()\n",
        "print('Authenticated')"
      ],
      "metadata": {
        "colab": {
          "base_uri": "https://localhost:8080/"
        },
        "id": "ASjzcBXrFbur",
        "outputId": "bab5250c-e0ea-462a-f721-5f4f23df2c44"
      },
      "execution_count": null,
      "outputs": [
        {
          "output_type": "stream",
          "name": "stdout",
          "text": [
            "Authenticated\n"
          ]
        }
      ]
    },
    {
      "cell_type": "code",
      "source": [
        "from google.cloud import bigquery"
      ],
      "metadata": {
        "id": "y70Ocvh1F5sx"
      },
      "execution_count": null,
      "outputs": []
    },
    {
      "cell_type": "code",
      "source": [
        "from pandas.io import gbq"
      ],
      "metadata": {
        "id": "W1UVxE6iMgQD"
      },
      "execution_count": null,
      "outputs": []
    },
    {
      "cell_type": "code",
      "source": [
        "df=gbq.read_gbq(\"select * FROM similaritycheck.urls \",project_id=\"sustained-works-329217\")"
      ],
      "metadata": {
        "id": "-4Y1Ue-iMgTa"
      },
      "execution_count": null,
      "outputs": []
    },
    {
      "cell_type": "code",
      "source": [
        "#importing all libraries\n",
        "import pandas as pd\n",
        "import time\n",
        "from sklearn.feature_extraction.text import CountVectorizer\n",
        "from sklearn.metrics.pairwise import cosine_similarity\n",
        "from difflib import SequenceMatcher\n",
        "from sklearn.feature_extraction.text import TfidfVectorizer\n",
        "from sklearn.metrics.pairwise import cosine_similarity"
      ],
      "metadata": {
        "id": "4_CRRWqnQ2zP"
      },
      "execution_count": null,
      "outputs": []
    },
    {
      "cell_type": "code",
      "source": [
        "# Removing Unnecessary Data Column\n",
        "# Removing Unnecessary Data Column\n",
        "df= df.iloc[:, [1,6]]"
      ],
      "metadata": {
        "id": "Y1L7K7YwQ22Q"
      },
      "execution_count": null,
      "outputs": []
    },
    {
      "cell_type": "code",
      "source": [
        "#the columns that we needed are\n",
        "df=df.dropna()"
      ],
      "metadata": {
        "id": "iiWxxGSbQ24q"
      },
      "execution_count": null,
      "outputs": []
    },
    {
      "cell_type": "code",
      "source": [
        "# Chaning Column name TO Url2 To follow the pattern of ALgorithum we have created\n",
        "df.rename(columns={\"ems_page_url\": \"Url2\"}, inplace=True)\n",
        "df.rename(columns={\"text\": \"Url2text\"}, inplace=True)"
      ],
      "metadata": {
        "id": "bo9VVUJ4Q29o"
      },
      "execution_count": null,
      "outputs": []
    },
    {
      "cell_type": "code",
      "source": [
        "# Now removing the unecessary text from url so we can configure that we are not\n",
        "# comparing the same url\n",
        "for i in range(len(df)):\n",
        "    df.loc[i,'Url'] = df.loc[i,'Url2'].replace(\"https://\", \"\")\n"
      ],
      "metadata": {
        "id": "-EEeLlj7Q3CW"
      },
      "execution_count": null,
      "outputs": []
    },
    {
      "cell_type": "code",
      "source": [
        "for i in range(len(df)):\n",
        "    df['Content'] = df['Url'].apply(lambda url: url.split('/', 1)[0])"
      ],
      "metadata": {
        "id": "07qHd-r0Q3Fn"
      },
      "execution_count": null,
      "outputs": []
    },
    {
      "cell_type": "code",
      "source": [
        "# User input here\n",
        "Url1=\"https://www.bettycrocker.co.uk\"\n",
        "Url2=Url1.replace(\"https://\", \"\")\n",
        "\n",
        "Mainurl=df[df['Content'] == Url2 ]\n",
        "# removing all the urls that are related to the Urls user enter\n",
        "df = df[df['Content'] != Url2 ]"
      ],
      "metadata": {
        "id": "NP94IEr8Q3Kp"
      },
      "execution_count": null,
      "outputs": []
    },
    {
      "cell_type": "code",
      "source": [
        "# reseting the indexes\n",
        "df = df.reset_index(drop=True)\n",
        "\n",
        "# reseting the indexes\n",
        "Mainurl= Mainurl.reset_index(drop=True)"
      ],
      "metadata": {
        "id": "4d9NAc9PSIeS"
      },
      "execution_count": null,
      "outputs": []
    },
    {
      "cell_type": "code",
      "source": [
        "import re\n",
        "\n",
        "def remove_special_characters_keep_spaces(input_string):\n",
        "    return re.sub('[^A-Za-z0-9\\s]+', '', input_string)\n",
        "# here we have removed all the special character from our main website link that we are going to compare with\n",
        "# other websites\n",
        "for i in range(len(Mainurl)):\n",
        "    input_string= Mainurl.loc[i,'Url2text']\n",
        "    Mainurl.loc[i,'Url2text'] = remove_special_characters_keep_spaces(input_string)"
      ],
      "metadata": {
        "id": "Fzl7kagrSIjJ"
      },
      "execution_count": null,
      "outputs": []
    },
    {
      "cell_type": "code",
      "source": [
        "for j in range(len(df)):\n",
        "      input_stringdf= df.loc[j,'Url2text']\n",
        "      df.loc[j,'Url2text'] = remove_special_characters_keep_spaces(input_stringdf)"
      ],
      "metadata": {
        "id": "LwQ-7DRYSIlo"
      },
      "execution_count": null,
      "outputs": []
    },
    {
      "cell_type": "code",
      "source": [
        "#checking that all the special character has been removed or not\n",
        "Mainurl.loc[100,'Url2text']"
      ],
      "metadata": {
        "colab": {
          "base_uri": "https://localhost:8080/",
          "height": 191
        },
        "id": "xFya5HAdSIoJ",
        "outputId": "e2657f68-eb6c-4553-c007-57e841c06a29"
      },
      "execution_count": null,
      "outputs": [
        {
          "output_type": "execute_result",
          "data": {
            "text/plain": [
              "'chocolate chip marble cake take this chocolate chip marble cake round to share with friends  chocolate  birthday  cake  fathers day difficulty level     chocolate chip marble cake take this chocolate chip marble cake round to share with friends  2h 15min total time  12 servings servings all you need is   1 box betty crocker velvety vanilla cake mix  225g dark chocolate chips  90ml vegetable oil  180ml water  3 medium free range eggs icing  1 tub 400g betty crocker velvety vanilla icing made with these betty crocker  products  velvety vanilla cake mix  velvety vanilla icing bettys easy steps preheat the oven to 180c 160c for fan assisted ovensgas mark 4 grease and line a 20cm round cake tin combine 100g of the chocolate chips with 1 tablespoon of the dry cake mix in a small bowl mix the remaining cake mix oil water and eggs gently together in a medium bowl and whisk by hand or electric mixer for 23 minutes until smooth and creamy stir in the cake mix dusted chocolate chips place 75g of the remaining chocolate chips into a microwaveable proof bowl and cook for 1 minute on medium until just melting cook for another 1 minute and stir if not fully melted continue for another 30 seconds divide the cake mixture between 2 bowls with 23 in one bowl and 13 in another mix the chocolate into the bowl with 13 of the mixture dollop alternative spoonfuls of the cake mixtures randomly into the cake tin cut through the mixture 45 times with a knife in s shaped curves creating a marbling effect with the two types of cake mixture bake in the oven for 5560 minutes or until a skewer inserted into the centre comes out clean cool for 10 minutes on a wire rack then remove the cake from the tin cool completely about 1 hour spread the icing over the top of the cake and decorate with the remaining chocolate chips bettys tips if you cant find chocolate chips you can use chopped dark chocolate instead why not use milk and white chocolate chips as well as dark and then you will have a triple chocolate chip marble cake only cut through the cake mixture 45 times to ensure defined marbling of the cake betty recommends  gooey salted caramel brownie fruit sundaes made with  gooey salted caramel brownie fruit sundaes this super indulgent dessert has layers of caramel brownie whipped cream and fresh strawberries  irresistible  lemon bars with cream and blueberries made with  lemon bars with cream and blueberries  delights turn these lovely lemon bars into a delicious dessert  simply serve warm topped with cream and fresh blueberries you may also like  rich chocolate fudge cake new betty crocker delights rich chocolate fudge cake  chocolate  cake  birthday nothing beats a rich indulgent but light chocolate fudge cake topped with real chocolate curls the perfect addition to any celebration easy to make and delicious  piata surprise cake new betty crocker delights piata surprise cake  chocolate  birthday  celebration  cake  christmas our fun chocolate piata cake recipe will make an impression at any christmas celebration hidden inside are colourful sweets and chocolates creating a wonderful surprise once cut into our pinata surprise cake is a great idea for a kids birthday party or any christmas party  vanilla birthday cake new betty crocker delights vanilla birthday cake  vanilla  birthday  cake this elegant vanilla sponge birthday cake recipe is perfect for a celebration with delicious betty crocker vanilla buttercream style icing swirls to decorate  classic victoria sponge cake new betty crocker delights classic victoria sponge cake  vanilla  birthday  celebration  picnic  cake  tea time  summer  spring wonderfully simple yet utterly delicious this classic victoria sponge cake recipe is perfect for serving with friends as a tasty teatime treat and can be made in less than an hour  chocolate hedgehog cake new betty crocker delights chocolate hedgehog cake  chocolate  birthday  cake this delightful hedgehog cake recipe with a moist chocolate sponge and delicious betty crocker chocolate fudge icing is sure to make anyone smile  easy rainbow cake new betty crocker delights easy rainbow cake  vanilla  birthday  celebration  cake  easy  summer  spring this beautiful rainbow cake is bang on trend and surprisingly simple to make make the colours as strong or pale as you wish either way no party is complete without it back to top'"
            ],
            "application/vnd.google.colaboratory.intrinsic+json": {
              "type": "string"
            }
          },
          "metadata": {},
          "execution_count": 16
        }
      ]
    },
    {
      "cell_type": "code",
      "source": [
        "from nltk.corpus import stopwords\n",
        "from nltk.tokenize import word_tokenize\n",
        "\n",
        "def sentence_similarity(sentence1, sentence2):\n",
        "    # Tokenize the input sentences into words\n",
        "    words1 = word_tokenize(sentence1)\n",
        "    words2 = word_tokenize(sentence2)\n",
        "\n",
        "    # Get a set of stopwords\n",
        "    stop_words = set(stopwords.words('english'))\n",
        "\n",
        "    # Remove stopwords from the word lists\n",
        "    words1 = [word for word in words1 if word.lower() not in stop_words]\n",
        "    words2 = [word for word in words2 if word.lower() not in stop_words]\n",
        "\n",
        "    # Create a set of unique words from both sentences\n",
        "    unique_words = set(words1 + words2)\n",
        "\n",
        "    # Encode the sentences into binary vectors\n",
        "    vector1 = [1 if word in words1 else 0 for word in unique_words]\n",
        "    vector2 = [1 if word in words2 else 0 for word in unique_words]\n",
        "\n",
        "    # Calculate the cosine similarity between the binary vectors\n",
        "    dot_product = sum(x * y for x, y in zip(vector1, vector2))\n",
        "    magnitude1 = sum(x ** 2 for x in vector1) ** 0.5\n",
        "    magnitude2 = sum(x ** 2 for x in vector2) ** 0.5\n",
        "\n",
        "    cosine_similarity = dot_product / (magnitude1 * magnitude2)\n",
        "\n",
        "    return cosine_similarity"
      ],
      "metadata": {
        "id": "ztRN8l3qSIq8"
      },
      "execution_count": null,
      "outputs": []
    },
    {
      "cell_type": "code",
      "source": [
        "import nltk\n",
        "results1=[]\n",
        "start_time_overall= time.time()\n",
        "for i in range(len(Mainurl)):\n",
        "    Url1text = Mainurl.loc[i, 'Url2text']\n",
        "    Url1 = Mainurl.loc[i, 'Url2']\n",
        "    for j in range(len(df)):\n",
        "        Url2text = df.loc[j, 'Url2text']\n",
        "        Url2 = df.loc[j, 'Url2']\n",
        "\n",
        "        start_time = time.time()  # Start measuring time\n",
        "        similarity1 = sentence_similarity(str(Url1text), str(Url2text))\n",
        "        end_time = time.time()  # End measuring time\n",
        "        execution_time1 = end_time - start_time\n",
        "\n",
        "        result = {\n",
        "            'Url1': Url1, 'Url1text': Url1text, 'Url2': Url2, 'Url2text': Url2text,\n",
        "            'similarity': similarity1, 'time': execution_time1\n",
        "        }\n",
        "        results1.append(result)\n",
        "\n",
        "end_time_overall = time.time()  # End measuring time\n",
        "execution_time_overall = end_time_overall - start_time_overall"
      ],
      "metadata": {
        "id": "dx11hSwoSItM"
      },
      "execution_count": null,
      "outputs": []
    },
    {
      "cell_type": "code",
      "source": [
        "execution_time_overall"
      ],
      "metadata": {
        "colab": {
          "base_uri": "https://localhost:8080/"
        },
        "id": "qf5e29cTSIvk",
        "outputId": "e46ac5f3-cc00-4e4b-9974-f20a704b9e4e"
      },
      "execution_count": null,
      "outputs": [
        {
          "output_type": "execute_result",
          "data": {
            "text/plain": [
              "448.784786939621"
            ]
          },
          "metadata": {},
          "execution_count": 69
        }
      ]
    },
    {
      "cell_type": "code",
      "source": [
        "import csv\n",
        "\n",
        "with open('F733token1.csv', 'w', newline='', encoding='utf-8') as file:\n",
        "    writer = csv.writer(file)\n",
        "    writer.writerow([\"Url1\",\"Url1text\",\"Url2\",\"Url2text\", \"Similarity\",\"TimeComplexity\"])\n",
        "\n",
        "    for result in results1:\n",
        "        try:\n",
        "            writer.writerow([result[\"Url1\"],result['Url1text'],result[\"Url2\"], result['Url2text'], result['similarity'],result['time']])\n",
        "        except UnicodeEncodeError:\n",
        "            print(f\"Skipping row with Url1text: {result['Url1text']} and Url2text: {result['Url2text']}\")\n"
      ],
      "metadata": {
        "id": "KHcllR_4SIyA"
      },
      "execution_count": null,
      "outputs": []
    }
  ],
  "metadata": {
    "colab": {
      "toc_visible": true,
      "provenance": [],
      "include_colab_link": true
    },
    "kernelspec": {
      "display_name": "Python 3",
      "name": "python3"
    }
  },
  "nbformat": 4,
  "nbformat_minor": 0
}